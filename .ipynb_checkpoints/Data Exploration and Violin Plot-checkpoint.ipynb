{
 "cells": [
  {
   "cell_type": "code",
   "execution_count": 1,
   "id": "f4a11d14",
   "metadata": {},
   "outputs": [],
   "source": [
    "from sklearn.metrics import accuracy_score, f1_score\n",
    "from sklearn.preprocessing import LabelEncoder, StandardScaler\n",
    "from sklearn.discriminant_analysis import LinearDiscriminantAnalysis as LDA\n",
    "from sklearn.model_selection import train_test_split\n",
    "from sklearn.linear_model import LogisticRegression\n",
    "from sklearn.model_selection import train_test_split\n",
    "import pandas as pd\n",
    "import numpy as np\n",
    "import matplotlib.pyplot as plt\n",
    "import seaborn as sns"
   ]
  },
  {
   "cell_type": "markdown",
   "id": "f615c031",
   "metadata": {},
   "source": [
    "data_modeling.h5 is the dataset merged and cleaned in the previous notebook."
   ]
  },
  {
   "cell_type": "code",
   "execution_count": 2,
   "id": "b08f0c8a",
   "metadata": {},
   "outputs": [],
   "source": [
    "store = pd.HDFStore('data_modeling.h5')\n",
    "data = store['data_modeling']"
   ]
  },
  {
   "cell_type": "code",
   "execution_count": 3,
   "id": "b6e9d71e",
   "metadata": {},
   "outputs": [
    {
     "data": {
      "text/html": [
       "<div>\n",
       "<style scoped>\n",
       "    .dataframe tbody tr th:only-of-type {\n",
       "        vertical-align: middle;\n",
       "    }\n",
       "\n",
       "    .dataframe tbody tr th {\n",
       "        vertical-align: top;\n",
       "    }\n",
       "\n",
       "    .dataframe thead th {\n",
       "        text-align: right;\n",
       "    }\n",
       "</style>\n",
       "<table border=\"1\" class=\"dataframe\">\n",
       "  <thead>\n",
       "    <tr style=\"text-align: right;\">\n",
       "      <th></th>\n",
       "      <th>unique_id</th>\n",
       "      <th>loan_amount</th>\n",
       "      <th>monthly_payment</th>\n",
       "      <th>grade</th>\n",
       "      <th>income</th>\n",
       "      <th>inq_last_6m</th>\n",
       "      <th>num_open_accts</th>\n",
       "      <th>revol_bal</th>\n",
       "      <th>num_tot_accts</th>\n",
       "      <th>tot_credit_bal</th>\n",
       "      <th>...</th>\n",
       "      <th>earliest_cr_line</th>\n",
       "      <th>fico</th>\n",
       "      <th>util_rate</th>\n",
       "      <th>loan_over_income</th>\n",
       "      <th>term</th>\n",
       "      <th>dti</th>\n",
       "      <th>platform_id</th>\n",
       "      <th>mob</th>\n",
       "      <th>prepay</th>\n",
       "      <th>default</th>\n",
       "    </tr>\n",
       "  </thead>\n",
       "  <tbody>\n",
       "    <tr>\n",
       "      <th>0</th>\n",
       "      <td>A-243811-1</td>\n",
       "      <td>20000.0</td>\n",
       "      <td>470.15</td>\n",
       "      <td>C</td>\n",
       "      <td>75000.0</td>\n",
       "      <td>0.0</td>\n",
       "      <td>15.0</td>\n",
       "      <td>35435.0</td>\n",
       "      <td>25.0</td>\n",
       "      <td>42760.0</td>\n",
       "      <td>...</td>\n",
       "      <td>83.0</td>\n",
       "      <td>667.0</td>\n",
       "      <td>76.0</td>\n",
       "      <td>0.27</td>\n",
       "      <td>60</td>\n",
       "      <td>0.1864</td>\n",
       "      <td>A</td>\n",
       "      <td>45</td>\n",
       "      <td>0</td>\n",
       "      <td>0</td>\n",
       "    </tr>\n",
       "    <tr>\n",
       "      <th>1</th>\n",
       "      <td>A-89475-2</td>\n",
       "      <td>6025.0</td>\n",
       "      <td>200.09</td>\n",
       "      <td>C</td>\n",
       "      <td>70000.0</td>\n",
       "      <td>3.0</td>\n",
       "      <td>21.0</td>\n",
       "      <td>8640.0</td>\n",
       "      <td>42.0</td>\n",
       "      <td>100312.0</td>\n",
       "      <td>...</td>\n",
       "      <td>98.0</td>\n",
       "      <td>682.0</td>\n",
       "      <td>31.2</td>\n",
       "      <td>0.09</td>\n",
       "      <td>36</td>\n",
       "      <td>0.3005</td>\n",
       "      <td>A</td>\n",
       "      <td>36</td>\n",
       "      <td>0</td>\n",
       "      <td>0</td>\n",
       "    </tr>\n",
       "    <tr>\n",
       "      <th>2</th>\n",
       "      <td>A-383194-3</td>\n",
       "      <td>5450.0</td>\n",
       "      <td>173.72</td>\n",
       "      <td>B</td>\n",
       "      <td>70000.0</td>\n",
       "      <td>0.0</td>\n",
       "      <td>6.0</td>\n",
       "      <td>5746.0</td>\n",
       "      <td>24.0</td>\n",
       "      <td>119491.0</td>\n",
       "      <td>...</td>\n",
       "      <td>188.0</td>\n",
       "      <td>687.0</td>\n",
       "      <td>56.9</td>\n",
       "      <td>0.08</td>\n",
       "      <td>36</td>\n",
       "      <td>0.0811</td>\n",
       "      <td>A</td>\n",
       "      <td>36</td>\n",
       "      <td>0</td>\n",
       "      <td>0</td>\n",
       "    </tr>\n",
       "    <tr>\n",
       "      <th>3</th>\n",
       "      <td>A-97928-4</td>\n",
       "      <td>6725.0</td>\n",
       "      <td>246.48</td>\n",
       "      <td>D</td>\n",
       "      <td>55000.0</td>\n",
       "      <td>1.0</td>\n",
       "      <td>6.0</td>\n",
       "      <td>8551.0</td>\n",
       "      <td>12.0</td>\n",
       "      <td>287319.0</td>\n",
       "      <td>...</td>\n",
       "      <td>82.0</td>\n",
       "      <td>662.0</td>\n",
       "      <td>77.7</td>\n",
       "      <td>0.12</td>\n",
       "      <td>36</td>\n",
       "      <td>0.0805</td>\n",
       "      <td>A</td>\n",
       "      <td>37</td>\n",
       "      <td>0</td>\n",
       "      <td>0</td>\n",
       "    </tr>\n",
       "    <tr>\n",
       "      <th>4</th>\n",
       "      <td>A-257581-5</td>\n",
       "      <td>24000.0</td>\n",
       "      <td>764.99</td>\n",
       "      <td>B</td>\n",
       "      <td>125000.0</td>\n",
       "      <td>0.0</td>\n",
       "      <td>22.0</td>\n",
       "      <td>33290.0</td>\n",
       "      <td>47.0</td>\n",
       "      <td>305776.0</td>\n",
       "      <td>...</td>\n",
       "      <td>84.0</td>\n",
       "      <td>682.0</td>\n",
       "      <td>80.2</td>\n",
       "      <td>0.19</td>\n",
       "      <td>36</td>\n",
       "      <td>0.1957</td>\n",
       "      <td>A</td>\n",
       "      <td>36</td>\n",
       "      <td>0</td>\n",
       "      <td>0</td>\n",
       "    </tr>\n",
       "  </tbody>\n",
       "</table>\n",
       "<p>5 rows × 26 columns</p>\n",
       "</div>"
      ],
      "text/plain": [
       "    unique_id  loan_amount  monthly_payment grade    income  inq_last_6m  \\\n",
       "0  A-243811-1      20000.0           470.15     C   75000.0          0.0   \n",
       "1   A-89475-2       6025.0           200.09     C   70000.0          3.0   \n",
       "2  A-383194-3       5450.0           173.72     B   70000.0          0.0   \n",
       "3   A-97928-4       6725.0           246.48     D   55000.0          1.0   \n",
       "4  A-257581-5      24000.0           764.99     B  125000.0          0.0   \n",
       "\n",
       "   num_open_accts  revol_bal  num_tot_accts  tot_credit_bal  ...  \\\n",
       "0            15.0    35435.0           25.0         42760.0  ...   \n",
       "1            21.0     8640.0           42.0        100312.0  ...   \n",
       "2             6.0     5746.0           24.0        119491.0  ...   \n",
       "3             6.0     8551.0           12.0        287319.0  ...   \n",
       "4            22.0    33290.0           47.0        305776.0  ...   \n",
       "\n",
       "   earliest_cr_line   fico  util_rate  loan_over_income term     dti  \\\n",
       "0              83.0  667.0       76.0              0.27   60  0.1864   \n",
       "1              98.0  682.0       31.2              0.09   36  0.3005   \n",
       "2             188.0  687.0       56.9              0.08   36  0.0811   \n",
       "3              82.0  662.0       77.7              0.12   36  0.0805   \n",
       "4              84.0  682.0       80.2              0.19   36  0.1957   \n",
       "\n",
       "   platform_id  mob  prepay  default  \n",
       "0            A   45       0        0  \n",
       "1            A   36       0        0  \n",
       "2            A   36       0        0  \n",
       "3            A   37       0        0  \n",
       "4            A   36       0        0  \n",
       "\n",
       "[5 rows x 26 columns]"
      ]
     },
     "execution_count": 3,
     "metadata": {},
     "output_type": "execute_result"
    }
   ],
   "source": [
    "data.head(5)"
   ]
  },
  {
   "cell_type": "code",
   "execution_count": 4,
   "id": "59d94ba6",
   "metadata": {},
   "outputs": [],
   "source": [
    "training_data = data.drop(['default', 'prepay','unique_id',], axis=1)\n",
    "y = data['default']"
   ]
  },
  {
   "cell_type": "code",
   "execution_count": 5,
   "id": "6969c222",
   "metadata": {},
   "outputs": [],
   "source": [
    "encoder_1 = LabelEncoder()\n",
    "\n",
    "# Fit the encoder on the data\n",
    "encoder_1.fit(training_data[\"platform_id\"])\n",
    "\n",
    "# Transform and replace the training data\n",
    "training_platform_id_encoded = encoder_1.transform(training_data[\"platform_id\"])\n",
    "training_data[\"platform_id\"] = training_platform_id_encoded\n",
    "\n",
    "encoder_2 = LabelEncoder()\n",
    "encoder_2.fit(training_data[\"grade\"])\n",
    "\n",
    "training_grade_encoded = encoder_2.transform(training_data[\"grade\"])\n",
    "training_data[\"grade\"] = training_grade_encoded\n",
    "\n",
    "encoder_3 = LabelEncoder()\n",
    "encoder_3.fit(training_data[\"home_ownership\"])\n",
    "\n",
    "training_home_ownership_encoded = encoder_3.transform(training_data[\"home_ownership\"])\n",
    "training_data[\"home_ownership\"] = training_home_ownership_encoded"
   ]
  },
  {
   "cell_type": "markdown",
   "id": "dbf56594",
   "metadata": {},
   "source": [
    "1. Accuracy is used when the True Positives and True negatives are more important while F1-score is used when the False Negatives and False Positives are crucial.\n",
    "2. Accuracy can be used when the class distribution is similar while F1-score is a better metric when there are imbalanced classes as in the above case."
   ]
  },
  {
   "cell_type": "markdown",
   "id": "560d2207",
   "metadata": {},
   "source": [
    "LDA Regression"
   ]
  },
  {
   "cell_type": "code",
   "execution_count": 6,
   "id": "c63f74b3",
   "metadata": {
    "scrolled": true
   },
   "outputs": [
    {
     "name": "stdout",
     "output_type": "stream",
     "text": [
      "Accuracy: 0.8711004777792991\n",
      "F1 Score: 0.03890172478641663\n"
     ]
    }
   ],
   "source": [
    "X_train, X_val, y_train, y_val = train_test_split(training_data, y, test_size=0.3, random_state=27)\n",
    "model = LDA()\n",
    "model.fit(X_train, y_train)\n",
    "preds = model.predict(X_val)\n",
    "acc = accuracy_score(y_val, preds)\n",
    "f1 = f1_score(y_val, preds)\n",
    "\n",
    "print(\"Accuracy: {}\".format(acc))\n",
    "print(\"F1 Score: {}\".format(f1))"
   ]
  },
  {
   "cell_type": "markdown",
   "id": "51275966",
   "metadata": {},
   "source": [
    "Logistic Regression"
   ]
  },
  {
   "cell_type": "code",
   "execution_count": 7,
   "id": "83918805",
   "metadata": {},
   "outputs": [
    {
     "name": "stdout",
     "output_type": "stream",
     "text": [
      "Accuracy: 0.8718931734490188\n",
      "F1 Score: 0.014524086701036642\n"
     ]
    },
    {
     "name": "stderr",
     "output_type": "stream",
     "text": [
      "/home/ec2-user/anaconda3/envs/tensorflow_p36/lib/python3.6/site-packages/sklearn/linear_model/_logistic.py:765: ConvergenceWarning: lbfgs failed to converge (status=1):\n",
      "STOP: TOTAL NO. of ITERATIONS REACHED LIMIT.\n",
      "\n",
      "Increase the number of iterations (max_iter) or scale the data as shown in:\n",
      "    https://scikit-learn.org/stable/modules/preprocessing.html\n",
      "Please also refer to the documentation for alternative solver options:\n",
      "    https://scikit-learn.org/stable/modules/linear_model.html#logistic-regression\n",
      "  extra_warning_msg=_LOGISTIC_SOLVER_CONVERGENCE_MSG)\n"
     ]
    }
   ],
   "source": [
    "logreg_clf = LogisticRegression(max_iter = 1000)\n",
    "logreg_clf.fit(X_train, y_train)\n",
    "preds = logreg_clf.predict(X_val)\n",
    "acc = accuracy_score(y_val, preds)\n",
    "f1 = f1_score(y_val, preds)\n",
    "\n",
    "print(\"Accuracy: {}\".format(acc))\n",
    "print(\"F1 Score: {}\".format(f1))"
   ]
  },
  {
   "cell_type": "code",
   "execution_count": null,
   "id": "82a2acda",
   "metadata": {},
   "outputs": [],
   "source": []
  }
 ],
 "metadata": {
  "kernelspec": {
   "display_name": "conda_tensorflow_p36",
   "language": "python",
   "name": "conda_tensorflow_p36"
  },
  "language_info": {
   "codemirror_mode": {
    "name": "ipython",
    "version": 3
   },
   "file_extension": ".py",
   "mimetype": "text/x-python",
   "name": "python",
   "nbconvert_exporter": "python",
   "pygments_lexer": "ipython3",
   "version": "3.6.13"
  }
 },
 "nbformat": 4,
 "nbformat_minor": 5
}
