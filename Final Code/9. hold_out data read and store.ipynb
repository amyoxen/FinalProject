{
 "cells": [
  {
   "cell_type": "code",
   "execution_count": 1,
   "id": "f8da57d0",
   "metadata": {},
   "outputs": [],
   "source": [
    "import pandas as pd\n",
    "import os\n",
    "import numpy as np\n",
    "pd.set_option(\"display.max_columns\", None)"
   ]
  },
  {
   "cell_type": "code",
   "execution_count": 2,
   "id": "66cf915e",
   "metadata": {},
   "outputs": [],
   "source": [
    "df = pd.read_excel(os.path.join(\"data\", \"PROPRIETARY_INFORMATION_Orig_Holdout_Data.xlsx\"),engine='openpyxl',sheet_name='Sheet1')"
   ]
  },
  {
   "cell_type": "code",
   "execution_count": 3,
   "id": "64159655",
   "metadata": {},
   "outputs": [],
   "source": [
    "df['platform_id'] = df['unique_id'].astype(str).str[0]"
   ]
  },
  {
   "cell_type": "code",
   "execution_count": 4,
   "id": "f6e5d0df",
   "metadata": {},
   "outputs": [],
   "source": [
    "df.loc[(df.platform_id == 'C'),'dti']=df['dti']-df['loan_over_income']\n",
    "df['post_dti'] =  df['dti'] + df['loan_over_income']"
   ]
  },
  {
   "cell_type": "code",
   "execution_count": 5,
   "id": "a9976382",
   "metadata": {},
   "outputs": [
    {
     "name": "stderr",
     "output_type": "stream",
     "text": [
      "/home/ec2-user/anaconda3/envs/tensorflow_p36/lib/python3.6/site-packages/IPython/core/interactiveshell.py:3343: PerformanceWarning: \n",
      "your performance may suffer as PyTables will pickle object types that it cannot\n",
      "map directly to c-types [inferred_type->mixed,key->block2_values] [items->Index(['unique_id', 'grade', 'home_ownership', 'platform_id'], dtype='object')]\n",
      "\n",
      "  exec(code_obj, self.user_global_ns, self.user_ns)\n"
     ]
    }
   ],
   "source": [
    "store = pd.HDFStore('predict_data.h5')\n",
    "store['predict_data'] = df  # save it"
   ]
  }
 ],
 "metadata": {
  "kernelspec": {
   "display_name": "conda_tensorflow_p36",
   "language": "python",
   "name": "conda_tensorflow_p36"
  },
  "language_info": {
   "codemirror_mode": {
    "name": "ipython",
    "version": 3
   },
   "file_extension": ".py",
   "mimetype": "text/x-python",
   "name": "python",
   "nbconvert_exporter": "python",
   "pygments_lexer": "ipython3",
   "version": "3.6.13"
  }
 },
 "nbformat": 4,
 "nbformat_minor": 5
}
