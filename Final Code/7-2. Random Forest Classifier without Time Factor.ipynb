{
 "cells": [
  {
   "cell_type": "code",
   "execution_count": 1,
   "id": "7fdfa53d",
   "metadata": {},
   "outputs": [],
   "source": [
    "import pandas as pd\n",
    "from sklearn.ensemble import RandomForestClassifier\n",
    "from sklearn.model_selection import train_test_split\n",
    "from sklearn.metrics import roc_curve\n",
    "from sklearn.metrics import roc_auc_score\n",
    "import time\n",
    "import matplotlib.pyplot as plt\n",
    "import numpy as np\n",
    "import pickle"
   ]
  },
  {
   "cell_type": "code",
   "execution_count": 2,
   "id": "c4738871",
   "metadata": {},
   "outputs": [],
   "source": [
    "#store = pd.HDFStore('X_pca.h5')\n",
    "#X_pca = store['X_pca']\n",
    "\n",
    "store = pd.HDFStore('X_pca.h5')\n",
    "X_pca = store['X_pca']\n",
    "\n",
    "store = pd.HDFStore('X_mob.h5')\n",
    "X_mob = store['X_mob']\n",
    "\n",
    "store = pd.HDFStore('y_default.h5')\n",
    "y_default = store['y_default']\n",
    "\n",
    "store = pd.HDFStore('y_prepay.h5')\n",
    "y_prepay = store['y_prepay']\n",
    "\n",
    "X_pca = X_pca.join(X_mob)"
   ]
  },
  {
   "cell_type": "code",
   "execution_count": 3,
   "id": "2af181ee",
   "metadata": {},
   "outputs": [],
   "source": [
    "X_pca_add = X_pca[X_pca['mob']>2].copy()\n",
    "X_pca_add['mob'] = np.floor(X_pca_add['mob']/2)\n",
    "X_pca_add_half_sample = X_pca_add.sample(frac = 0.5)\n",
    "X_pca = pd.concat([X_pca, X_pca_add_half_sample])\n",
    "\n",
    "zeros = pd.DataFrame(np.zeros(X_pca_add_half_sample.shape[0]))\n",
    "y_default = pd.concat([y_default,zeros])\n",
    "y_prepay = pd.concat([y_prepay,zeros])"
   ]
  },
  {
   "cell_type": "code",
   "execution_count": 4,
   "id": "b4819c2e",
   "metadata": {},
   "outputs": [],
   "source": [
    "X_pca_add = X_pca[X_pca['mob']>4].copy()\n",
    "X_pca_add['mob'] = np.ceil(X_pca_add['mob']/4*3)\n",
    "X_pca_add_half_sample = X_pca_add.sample(frac = 0.5)\n",
    "X_pca = pd.concat([X_pca, X_pca_add_half_sample])\n",
    "\n",
    "zeros = pd.DataFrame(np.zeros(X_pca_add_half_sample.shape[0]))\n",
    "y_default = pd.concat([y_default,zeros])\n",
    "y_prepay = pd.concat([y_prepay,zeros])"
   ]
  },
  {
   "cell_type": "code",
   "execution_count": 5,
   "id": "76ffb001",
   "metadata": {},
   "outputs": [],
   "source": [
    "X_pca_add = X_pca[X_pca['mob']>4].copy()\n",
    "X_pca_add['mob'] = np.floor(X_pca_add['mob']/4)\n",
    "X_pca_add_half_sample = X_pca_add.sample(frac = 0.5)\n",
    "X_pca = pd.concat([X_pca, X_pca_add_half_sample])\n",
    "\n",
    "zeros = pd.DataFrame(np.zeros(X_pca_add_half_sample.shape[0]))\n",
    "y_default = pd.concat([y_default,zeros])\n",
    "y_prepay = pd.concat([y_prepay,zeros])"
   ]
  },
  {
   "cell_type": "code",
   "execution_count": 6,
   "id": "02b41cee",
   "metadata": {},
   "outputs": [
    {
     "data": {
      "text/html": [
       "<div>\n",
       "<style scoped>\n",
       "    .dataframe tbody tr th:only-of-type {\n",
       "        vertical-align: middle;\n",
       "    }\n",
       "\n",
       "    .dataframe tbody tr th {\n",
       "        vertical-align: top;\n",
       "    }\n",
       "\n",
       "    .dataframe thead th {\n",
       "        text-align: right;\n",
       "    }\n",
       "</style>\n",
       "<table border=\"1\" class=\"dataframe\">\n",
       "  <thead>\n",
       "    <tr style=\"text-align: right;\">\n",
       "      <th></th>\n",
       "      <th>0</th>\n",
       "      <th>1</th>\n",
       "      <th>2</th>\n",
       "      <th>3</th>\n",
       "      <th>4</th>\n",
       "      <th>5</th>\n",
       "      <th>6</th>\n",
       "      <th>7</th>\n",
       "      <th>8</th>\n",
       "      <th>9</th>\n",
       "      <th>10</th>\n",
       "      <th>mob</th>\n",
       "      <th>Orig_month</th>\n",
       "      <th>Orig_year</th>\n",
       "    </tr>\n",
       "  </thead>\n",
       "  <tbody>\n",
       "    <tr>\n",
       "      <th>0</th>\n",
       "      <td>0.717521</td>\n",
       "      <td>-0.458524</td>\n",
       "      <td>1.433562</td>\n",
       "      <td>1.046494</td>\n",
       "      <td>0.164595</td>\n",
       "      <td>-0.072055</td>\n",
       "      <td>-0.030477</td>\n",
       "      <td>-0.168625</td>\n",
       "      <td>-0.026212</td>\n",
       "      <td>0.399204</td>\n",
       "      <td>-0.980749</td>\n",
       "      <td>45.0</td>\n",
       "      <td>4</td>\n",
       "      <td>2016</td>\n",
       "    </tr>\n",
       "    <tr>\n",
       "      <th>1</th>\n",
       "      <td>2.244616</td>\n",
       "      <td>-1.030425</td>\n",
       "      <td>-2.443468</td>\n",
       "      <td>-0.576140</td>\n",
       "      <td>0.748542</td>\n",
       "      <td>-0.115527</td>\n",
       "      <td>1.318192</td>\n",
       "      <td>0.025524</td>\n",
       "      <td>0.144284</td>\n",
       "      <td>-0.892829</td>\n",
       "      <td>0.537241</td>\n",
       "      <td>36.0</td>\n",
       "      <td>5</td>\n",
       "      <td>2016</td>\n",
       "    </tr>\n",
       "    <tr>\n",
       "      <th>2</th>\n",
       "      <td>0.310954</td>\n",
       "      <td>0.027425</td>\n",
       "      <td>-1.540056</td>\n",
       "      <td>0.840923</td>\n",
       "      <td>-0.836991</td>\n",
       "      <td>-0.101286</td>\n",
       "      <td>0.769092</td>\n",
       "      <td>0.116545</td>\n",
       "      <td>0.204194</td>\n",
       "      <td>-0.554330</td>\n",
       "      <td>0.878635</td>\n",
       "      <td>36.0</td>\n",
       "      <td>4</td>\n",
       "      <td>2016</td>\n",
       "    </tr>\n",
       "    <tr>\n",
       "      <th>3</th>\n",
       "      <td>0.383023</td>\n",
       "      <td>-1.832473</td>\n",
       "      <td>-0.242715</td>\n",
       "      <td>0.706981</td>\n",
       "      <td>-0.896038</td>\n",
       "      <td>0.766941</td>\n",
       "      <td>0.857497</td>\n",
       "      <td>0.164902</td>\n",
       "      <td>0.243484</td>\n",
       "      <td>-0.455246</td>\n",
       "      <td>1.471685</td>\n",
       "      <td>37.0</td>\n",
       "      <td>5</td>\n",
       "      <td>2016</td>\n",
       "    </tr>\n",
       "    <tr>\n",
       "      <th>4</th>\n",
       "      <td>2.691928</td>\n",
       "      <td>1.549250</td>\n",
       "      <td>1.128812</td>\n",
       "      <td>1.238563</td>\n",
       "      <td>-0.146378</td>\n",
       "      <td>0.364322</td>\n",
       "      <td>1.418887</td>\n",
       "      <td>-0.103755</td>\n",
       "      <td>0.294065</td>\n",
       "      <td>-0.282789</td>\n",
       "      <td>-1.066466</td>\n",
       "      <td>36.0</td>\n",
       "      <td>6</td>\n",
       "      <td>2016</td>\n",
       "    </tr>\n",
       "    <tr>\n",
       "      <th>...</th>\n",
       "      <td>...</td>\n",
       "      <td>...</td>\n",
       "      <td>...</td>\n",
       "      <td>...</td>\n",
       "      <td>...</td>\n",
       "      <td>...</td>\n",
       "      <td>...</td>\n",
       "      <td>...</td>\n",
       "      <td>...</td>\n",
       "      <td>...</td>\n",
       "      <td>...</td>\n",
       "      <td>...</td>\n",
       "      <td>...</td>\n",
       "      <td>...</td>\n",
       "    </tr>\n",
       "    <tr>\n",
       "      <th>46738</th>\n",
       "      <td>0.231929</td>\n",
       "      <td>1.215119</td>\n",
       "      <td>4.186584</td>\n",
       "      <td>0.645809</td>\n",
       "      <td>0.655710</td>\n",
       "      <td>0.181390</td>\n",
       "      <td>-0.175476</td>\n",
       "      <td>-0.104229</td>\n",
       "      <td>-0.130694</td>\n",
       "      <td>-0.012143</td>\n",
       "      <td>0.570026</td>\n",
       "      <td>3.0</td>\n",
       "      <td>11</td>\n",
       "      <td>2017</td>\n",
       "    </tr>\n",
       "    <tr>\n",
       "      <th>412163</th>\n",
       "      <td>-4.220932</td>\n",
       "      <td>0.105949</td>\n",
       "      <td>1.325950</td>\n",
       "      <td>-1.637036</td>\n",
       "      <td>-0.026856</td>\n",
       "      <td>-0.697426</td>\n",
       "      <td>-0.676563</td>\n",
       "      <td>0.026211</td>\n",
       "      <td>-0.124876</td>\n",
       "      <td>0.144566</td>\n",
       "      <td>0.106322</td>\n",
       "      <td>3.0</td>\n",
       "      <td>11</td>\n",
       "      <td>2016</td>\n",
       "    </tr>\n",
       "    <tr>\n",
       "      <th>266617</th>\n",
       "      <td>1.455933</td>\n",
       "      <td>-0.146244</td>\n",
       "      <td>-2.001300</td>\n",
       "      <td>1.302837</td>\n",
       "      <td>-1.018401</td>\n",
       "      <td>0.575504</td>\n",
       "      <td>-0.281975</td>\n",
       "      <td>0.039161</td>\n",
       "      <td>0.053243</td>\n",
       "      <td>0.636909</td>\n",
       "      <td>-0.375866</td>\n",
       "      <td>4.0</td>\n",
       "      <td>2</td>\n",
       "      <td>2017</td>\n",
       "    </tr>\n",
       "    <tr>\n",
       "      <th>105133</th>\n",
       "      <td>0.620658</td>\n",
       "      <td>0.934352</td>\n",
       "      <td>-2.585053</td>\n",
       "      <td>0.216022</td>\n",
       "      <td>-0.319698</td>\n",
       "      <td>-1.076658</td>\n",
       "      <td>0.007664</td>\n",
       "      <td>0.183795</td>\n",
       "      <td>-0.055803</td>\n",
       "      <td>-0.563043</td>\n",
       "      <td>1.108672</td>\n",
       "      <td>3.0</td>\n",
       "      <td>10</td>\n",
       "      <td>2018</td>\n",
       "    </tr>\n",
       "    <tr>\n",
       "      <th>426878</th>\n",
       "      <td>-0.757774</td>\n",
       "      <td>-2.841627</td>\n",
       "      <td>1.676785</td>\n",
       "      <td>0.641331</td>\n",
       "      <td>-1.459383</td>\n",
       "      <td>-1.874464</td>\n",
       "      <td>-0.626586</td>\n",
       "      <td>0.205220</td>\n",
       "      <td>-0.056793</td>\n",
       "      <td>-0.311097</td>\n",
       "      <td>0.802841</td>\n",
       "      <td>2.0</td>\n",
       "      <td>8</td>\n",
       "      <td>2017</td>\n",
       "    </tr>\n",
       "  </tbody>\n",
       "</table>\n",
       "<p>1927276 rows × 14 columns</p>\n",
       "</div>"
      ],
      "text/plain": [
       "               0         1         2         3         4         5         6  \\\n",
       "0       0.717521 -0.458524  1.433562  1.046494  0.164595 -0.072055 -0.030477   \n",
       "1       2.244616 -1.030425 -2.443468 -0.576140  0.748542 -0.115527  1.318192   \n",
       "2       0.310954  0.027425 -1.540056  0.840923 -0.836991 -0.101286  0.769092   \n",
       "3       0.383023 -1.832473 -0.242715  0.706981 -0.896038  0.766941  0.857497   \n",
       "4       2.691928  1.549250  1.128812  1.238563 -0.146378  0.364322  1.418887   \n",
       "...          ...       ...       ...       ...       ...       ...       ...   \n",
       "46738   0.231929  1.215119  4.186584  0.645809  0.655710  0.181390 -0.175476   \n",
       "412163 -4.220932  0.105949  1.325950 -1.637036 -0.026856 -0.697426 -0.676563   \n",
       "266617  1.455933 -0.146244 -2.001300  1.302837 -1.018401  0.575504 -0.281975   \n",
       "105133  0.620658  0.934352 -2.585053  0.216022 -0.319698 -1.076658  0.007664   \n",
       "426878 -0.757774 -2.841627  1.676785  0.641331 -1.459383 -1.874464 -0.626586   \n",
       "\n",
       "               7         8         9        10   mob  Orig_month  Orig_year  \n",
       "0      -0.168625 -0.026212  0.399204 -0.980749  45.0           4       2016  \n",
       "1       0.025524  0.144284 -0.892829  0.537241  36.0           5       2016  \n",
       "2       0.116545  0.204194 -0.554330  0.878635  36.0           4       2016  \n",
       "3       0.164902  0.243484 -0.455246  1.471685  37.0           5       2016  \n",
       "4      -0.103755  0.294065 -0.282789 -1.066466  36.0           6       2016  \n",
       "...          ...       ...       ...       ...   ...         ...        ...  \n",
       "46738  -0.104229 -0.130694 -0.012143  0.570026   3.0          11       2017  \n",
       "412163  0.026211 -0.124876  0.144566  0.106322   3.0          11       2016  \n",
       "266617  0.039161  0.053243  0.636909 -0.375866   4.0           2       2017  \n",
       "105133  0.183795 -0.055803 -0.563043  1.108672   3.0          10       2018  \n",
       "426878  0.205220 -0.056793 -0.311097  0.802841   2.0           8       2017  \n",
       "\n",
       "[1927276 rows x 14 columns]"
      ]
     },
     "execution_count": 6,
     "metadata": {},
     "output_type": "execute_result"
    }
   ],
   "source": [
    "X_pca"
   ]
  },
  {
   "cell_type": "code",
   "execution_count": 7,
   "id": "2a76ff01",
   "metadata": {},
   "outputs": [],
   "source": [
    "trainX, testX, trainy, testy = train_test_split(X_pca, y_default, test_size=0.2, random_state=2)\n",
    "# generate a no skill prediction (majority class)\n",
    "ns_probs = [0 for _ in range(len(testy))]"
   ]
  },
  {
   "cell_type": "code",
   "execution_count": 8,
   "id": "02a8cd47",
   "metadata": {},
   "outputs": [
    {
     "name": "stderr",
     "output_type": "stream",
     "text": [
      "/home/ec2-user/anaconda3/envs/tensorflow2_p36/lib/python3.6/site-packages/ipykernel/__main__.py:3: DataConversionWarning: A column-vector y was passed when a 1d array was expected. Please change the shape of y to (n_samples,), for example using ravel().\n",
      "  app.launch_new_instance()\n"
     ]
    },
    {
     "name": "stdout",
     "output_type": "stream",
     "text": [
      "No Skill: ROC AUC=0.500\n",
      "RandomForestClassifier: ROC AUC=0.762\n"
     ]
    },
    {
     "data": {
      "image/png": "[encoded data removed]",
      "text/plain": [
       "<Figure size 432x288 with 1 Axes>"
      ]
     },
     "metadata": {
      "needs_background": "light"
     },
     "output_type": "display_data"
    },
    {
     "name": "stdout",
     "output_type": "stream",
     "text": [
      "472.96122884750366 s\n"
     ]
    }
   ],
   "source": [
    "time_start = time.time()\n",
    "model = RandomForestClassifier(n_estimators=50,random_state=0)\n",
    "model.fit(trainX, trainy)\n",
    "time_end = time.time()\n",
    "\n",
    "# predict probabilities\n",
    "lr_probs = model.predict_proba(testX)\n",
    "# keep probabilities for the positive outcome only\n",
    "lr_probs = lr_probs[:, 1]\n",
    "# calculate scores\n",
    "ns_auc = roc_auc_score(testy, ns_probs)\n",
    "lr_auc = roc_auc_score(testy, lr_probs)\n",
    "# summarize scores\n",
    "print('No Skill: ROC AUC=%.3f' % (ns_auc))\n",
    "print('RandomForestClassifier: ROC AUC=%.3f' % (lr_auc))\n",
    "# calculate roc curves\n",
    "ns_fpr, ns_tpr, _ = roc_curve(testy, ns_probs)\n",
    "lr_fpr, lr_tpr, _ = roc_curve(testy, lr_probs)\n",
    "# plot the roc curve for the model\n",
    "plt.plot(ns_fpr, ns_tpr, linestyle='--', label='No Skill')\n",
    "plt.plot(lr_fpr, lr_tpr, marker='.', label='RandomForestClassifier')\n",
    "# axis labels\n",
    "plt.xlabel('False Positive Rate')\n",
    "plt.ylabel('True Positive Rate')\n",
    "# show the legend\n",
    "plt.legend()\n",
    "# show the plot\n",
    "plt.show()\n",
    "\n",
    "print (time_end - time_start, \"s\")"
   ]
  },
  {
   "cell_type": "code",
   "execution_count": 6,
   "id": "c46d72fd",
   "metadata": {},
   "outputs": [],
   "source": [
    "trainX, testX, trainy, testy = train_test_split(X_pca, y_prepay, test_size=0.2, random_state=2)\n",
    "# generate a no skill prediction (majority class)\n",
    "ns_probs = [0 for _ in range(len(testy))]"
   ]
  },
  {
   "cell_type": "code",
   "execution_count": 7,
   "id": "95ea172f",
   "metadata": {
    "scrolled": true
   },
   "outputs": [
    {
     "name": "stderr",
     "output_type": "stream",
     "text": [
      "/home/ec2-user/anaconda3/envs/tensorflow2_p36/lib/python3.6/site-packages/ipykernel/__main__.py:3: DataConversionWarning: A column-vector y was passed when a 1d array was expected. Please change the shape of y to (n_samples,), for example using ravel().\n",
      "  app.launch_new_instance()\n"
     ]
    }
   ],
   "source": [
    "time_start = time.time()\n",
    "model = RandomForestClassifier(n_estimators=50,random_state=0)\n",
    "model.fit(trainX, trainy)\n",
    "time_end = time.time()"
   ]
  },
  {
   "cell_type": "code",
   "execution_count": 9,
   "id": "8b63f759",
   "metadata": {},
   "outputs": [
    {
     "name": "stdout",
     "output_type": "stream",
     "text": [
      "No Skill: ROC AUC=0.500\n",
      "RandomForestClassifier: ROC AUC=0.658\n"
     ]
    },
    {
     "data": {
      "image/png": "[encoded data removed]",
      "text/plain": [
       "<Figure size 432x288 with 1 Axes>"
      ]
     },
     "metadata": {
      "needs_background": "light"
     },
     "output_type": "display_data"
    },
    {
     "name": "stdout",
     "output_type": "stream",
     "text": [
      "568.0716109275818 s\n"
     ]
    }
   ],
   "source": [
    "# predict probabilities\n",
    "lr_probs = model.predict_proba(testX)\n",
    "# keep probabilities for the positive outcome only\n",
    "lr_probs = lr_probs[:, 1]\n",
    "# calculate scores\n",
    "ns_auc = roc_auc_score(testy, ns_probs)\n",
    "lr_auc = roc_auc_score(testy, lr_probs)\n",
    "# summarize scores\n",
    "print('No Skill: ROC AUC=%.3f' % (ns_auc))\n",
    "print('RandomForestClassifier: ROC AUC=%.3f' % (lr_auc))\n",
    "# calculate roc curves\n",
    "ns_fpr, ns_tpr, _ = roc_curve(testy, ns_probs)\n",
    "lr_fpr, lr_tpr, _ = roc_curve(testy, lr_probs)\n",
    "# plot the roc curve for the model\n",
    "plt.plot(ns_fpr, ns_tpr, linestyle='--', label='No Skill')\n",
    "plt.plot(lr_fpr, lr_tpr, marker='.', label='RandomForestClassifier')\n",
    "# axis labels\n",
    "plt.xlabel('False Positive Rate')\n",
    "plt.ylabel('True Positive Rate')\n",
    "# show the legend\n",
    "plt.legend()\n",
    "# show the plot\n",
    "plt.show()\n",
    "print (time_end - time_start, \"s\")"
   ]
  }
 ],
 "metadata": {
  "kernelspec": {
   "display_name": "conda_tensorflow2_p36",
   "language": "python",
   "name": "conda_tensorflow2_p36"
  },
  "language_info": {
   "codemirror_mode": {
    "name": "ipython",
    "version": 3
   },
   "file_extension": ".py",
   "mimetype": "text/x-python",
   "name": "python",
   "nbconvert_exporter": "python",
   "pygments_lexer": "ipython3",
   "version": "3.6.13"
  }
 },
 "nbformat": 4,
 "nbformat_minor": 5
}
