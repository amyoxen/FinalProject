{
 "cells": [
  {
   "cell_type": "code",
   "execution_count": 2,
   "id": "4788ba71",
   "metadata": {},
   "outputs": [],
   "source": [
    "import pandas as pd\n",
    "from sklearn.neural_network import MLPClassifier\n",
    "from sklearn.model_selection import train_test_split\n",
    "from sklearn.metrics import roc_curve\n",
    "from sklearn.metrics import roc_auc_score\n",
    "import time\n",
    "import matplotlib.pyplot as plt\n",
    "import numpy as np\n",
    "import pickle"
   ]
  },
  {
   "cell_type": "code",
   "execution_count": 3,
   "id": "b2112c6b",
   "metadata": {},
   "outputs": [],
   "source": [
    "#store = pd.HDFStore('X_pca.h5')\n",
    "#X_pca = store['X_pca']\n",
    "\n",
    "store = pd.HDFStore('X_pca.h5')\n",
    "X_pca = store['X_pca']\n",
    "\n",
    "store = pd.HDFStore('X_mob.h5')\n",
    "X_mob = store['X_mob']\n",
    "\n",
    "\n",
    "store = pd.HDFStore('y_default.h5')\n",
    "y_default = store['y_default']\n",
    "\n",
    "store = pd.HDFStore('y_prepay.h5')\n",
    "y_prepay = store['y_prepay']\n",
    "\n",
    "X_pca = X_pca.join(X_mob)"
   ]
  },
  {
   "cell_type": "code",
   "execution_count": 4,
   "id": "0783ea63",
   "metadata": {},
   "outputs": [],
   "source": [
    "X_pca_add = X_pca[ X_pca['mob']>1].copy()\n",
    "X_pca_add['mob'] = np.ceil(X_pca_add['mob']/2)\n",
    "X_pca = pd.concat([X_pca, X_pca_add])\n",
    "\n",
    "zeros = pd.DataFrame(np.zeros(X_pca_add.shape[0]))\n",
    "y_default = pd.concat([y_default,zeros])\n",
    "y_prepay = pd.concat([y_prepay,zeros])"
   ]
  },
  {
   "cell_type": "code",
   "execution_count": 6,
   "id": "84b37a37",
   "metadata": {},
   "outputs": [],
   "source": [
    "X_pca_add = X_pca[ X_pca['mob']>10].copy()\n",
    "X_pca_add['mob'] = np.ceil(X_pca_add['mob']/10)\n",
    "X_pca = pd.concat([X_pca, X_pca_add])\n",
    "\n",
    "zeros = pd.DataFrame(np.zeros(X_pca_add.shape[0]))\n",
    "y_default = pd.concat([y_default,zeros])\n",
    "y_prepay = pd.concat([y_prepay,zeros])"
   ]
  },
  {
   "cell_type": "code",
   "execution_count": 7,
   "id": "0a5d886f",
   "metadata": {},
   "outputs": [],
   "source": [
    "trainX, testX, trainy, testy = train_test_split(X_pca, y_default, test_size=0.2, random_state=2)\n",
    "# generate a no skill prediction (majority class)\n",
    "ns_probs = [0 for _ in range(len(testy))]"
   ]
  },
  {
   "cell_type": "code",
   "execution_count": 8,
   "id": "843aaf6c",
   "metadata": {},
   "outputs": [
    {
     "name": "stderr",
     "output_type": "stream",
     "text": [
      "/home/ec2-user/anaconda3/envs/tensorflow_p36/lib/python3.6/site-packages/sklearn/utils/validation.py:63: DataConversionWarning: A column-vector y was passed when a 1d array was expected. Please change the shape of y to (n_samples, ), for example using ravel().\n",
      "  return f(*args, **kwargs)\n"
     ]
    },
    {
     "name": "stdout",
     "output_type": "stream",
     "text": [
      "Iteration 1, loss = 0.13358978\n",
      "Iteration 2, loss = 0.13115986\n",
      "Iteration 3, loss = 0.13068601\n",
      "Iteration 4, loss = 0.13022523\n",
      "Iteration 5, loss = 0.13001064\n",
      "Iteration 6, loss = 0.12984596\n",
      "Iteration 7, loss = 0.12968079\n",
      "Iteration 8, loss = 0.12955794\n",
      "Iteration 9, loss = 0.12943539\n",
      "Iteration 10, loss = 0.12937292\n",
      "Iteration 11, loss = 0.12928654\n",
      "Iteration 12, loss = 0.12920034\n",
      "Iteration 13, loss = 0.12917874\n",
      "Iteration 14, loss = 0.12907991\n",
      "Iteration 15, loss = 0.12903050\n",
      "Iteration 16, loss = 0.12898987\n",
      "Iteration 17, loss = 0.12891174\n",
      "Iteration 18, loss = 0.12888533\n",
      "Iteration 19, loss = 0.12885776\n",
      "Iteration 20, loss = 0.12880384\n",
      "Training loss did not improve more than tol=0.000100 for 10 consecutive epochs. Stopping.\n",
      "No Skill: ROC AUC=0.500\n",
      "MLPClassifier: ROC AUC=0.853\n"
     ]
    },
    {
     "data": {
      "image/png": "[encoded data removed]",
      "text/plain": [
       "<Figure size 432x288 with 1 Axes>"
      ]
     },
     "metadata": {
      "needs_background": "light"
     },
     "output_type": "display_data"
    },
    {
     "name": "stdout",
     "output_type": "stream",
     "text": [
      "1692.1929202079773 s\n"
     ]
    }
   ],
   "source": [
    "time_start = time.time()\n",
    "model = MLPClassifier(hidden_layer_sizes=(128, 32, 32, 128), max_iter=30, early_stopping=False, learning_rate_init=0.001, verbose=True)\n",
    "model.fit(trainX, trainy)\n",
    "time_end = time.time()\n",
    "\n",
    "# save the model to disk\n",
    "filename = 'nn_model_default.sav'\n",
    "#filename = 'nn_model_date_default.sav'\n",
    "\n",
    "pickle.dump(model, open(filename, 'wb'))\n",
    "model = pickle.load(open(filename, 'rb'))\n",
    "\n",
    "lr_probs = model.predict_proba(testX)\n",
    "# keep probabilities for the positive outcome only\n",
    "lr_probs = lr_probs[:, 1]\n",
    "# calculate scores\n",
    "ns_auc = roc_auc_score(testy, ns_probs)\n",
    "lr_auc = roc_auc_score(testy, lr_probs)\n",
    "# summarize scores\n",
    "print('No Skill: ROC AUC=%.3f' % (ns_auc))\n",
    "print('MLPClassifier: ROC AUC=%.3f' % (lr_auc))\n",
    "# calculate roc curves\n",
    "ns_fpr, ns_tpr, _ = roc_curve(testy, ns_probs)\n",
    "lr_fpr, lr_tpr, _ = roc_curve(testy, lr_probs)\n",
    "# plot the roc curve for the model\n",
    "plt.plot(ns_fpr, ns_tpr, linestyle='--', label='No Skill')\n",
    "plt.plot(lr_fpr, lr_tpr, marker='.', label='MLPClassifier')\n",
    "# axis labels\n",
    "plt.xlabel('False Positive Rate')\n",
    "plt.ylabel('True Positive Rate')\n",
    "# show the legend\n",
    "plt.legend()\n",
    "# show the plot\n",
    "plt.show()\n",
    "\n",
    "print (time_end - time_start, \"s\")"
   ]
  },
  {
   "cell_type": "code",
   "execution_count": 9,
   "id": "709c2b24",
   "metadata": {},
   "outputs": [],
   "source": [
    "trainX, testX, trainy, testy = train_test_split(X_pca, y_prepay, test_size=0.2, random_state=2)\n",
    "# generate a no skill prediction (majority class)\n",
    "ns_probs = [0 for _ in range(len(testy))]"
   ]
  },
  {
   "cell_type": "code",
   "execution_count": 11,
   "id": "54bee965",
   "metadata": {},
   "outputs": [
    {
     "name": "stderr",
     "output_type": "stream",
     "text": [
      "/home/ec2-user/anaconda3/envs/tensorflow_p36/lib/python3.6/site-packages/sklearn/utils/validation.py:63: DataConversionWarning: A column-vector y was passed when a 1d array was expected. Please change the shape of y to (n_samples, ), for example using ravel().\n",
      "  return f(*args, **kwargs)\n"
     ]
    },
    {
     "name": "stdout",
     "output_type": "stream",
     "text": [
      "Iteration 1, loss = 0.31648797\n",
      "Iteration 2, loss = 0.30908063\n",
      "Iteration 3, loss = 0.30701479\n",
      "Iteration 4, loss = 0.30594069\n",
      "Iteration 5, loss = 0.30516056\n",
      "Iteration 6, loss = 0.30409711\n",
      "Iteration 7, loss = 0.30380492\n",
      "Iteration 8, loss = 0.30274388\n",
      "Iteration 9, loss = 0.30224488\n",
      "Iteration 10, loss = 0.30168823\n",
      "Iteration 11, loss = 0.30125771\n",
      "Iteration 12, loss = 0.30098380\n",
      "Iteration 13, loss = 0.30068503\n",
      "Iteration 14, loss = 0.30048383\n",
      "Iteration 15, loss = 0.30025950\n",
      "Iteration 16, loss = 0.29998437\n",
      "Iteration 17, loss = 0.29981140\n",
      "Iteration 18, loss = 0.29962761\n",
      "Iteration 19, loss = 0.29962873\n",
      "Iteration 20, loss = 0.29941770\n",
      "Iteration 21, loss = 0.29938921\n",
      "Iteration 22, loss = 0.29943450\n",
      "Iteration 23, loss = 0.29920772\n",
      "Iteration 24, loss = 0.29900372\n",
      "Iteration 25, loss = 0.29904094\n",
      "Iteration 26, loss = 0.29893424\n",
      "Iteration 27, loss = 0.29880169\n",
      "Iteration 28, loss = 0.29863342\n",
      "Iteration 29, loss = 0.29852146\n",
      "Iteration 30, loss = 0.29858516\n"
     ]
    },
    {
     "name": "stderr",
     "output_type": "stream",
     "text": [
      "/home/ec2-user/anaconda3/envs/tensorflow_p36/lib/python3.6/site-packages/sklearn/neural_network/_multilayer_perceptron.py:617: ConvergenceWarning: Stochastic Optimizer: Maximum iterations (30) reached and the optimization hasn't converged yet.\n",
      "  % self.max_iter, ConvergenceWarning)\n"
     ]
    },
    {
     "name": "stdout",
     "output_type": "stream",
     "text": [
      "No Skill: ROC AUC=0.500\n",
      "MLPClassifier: ROC AUC=0.798\n"
     ]
    },
    {
     "data": {
      "image/png": "[encoded data removed]",
      "text/plain": [
       "<Figure size 432x288 with 1 Axes>"
      ]
     },
     "metadata": {
      "needs_background": "light"
     },
     "output_type": "display_data"
    },
    {
     "name": "stdout",
     "output_type": "stream",
     "text": [
      "2352.5929107666016 s\n"
     ]
    }
   ],
   "source": [
    "time_start = time.time()\n",
    "model = MLPClassifier(hidden_layer_sizes=(128, 32, 32, 128), max_iter=30, early_stopping=False, learning_rate_init=0.001, verbose=True)\n",
    "model.fit(trainX, trainy)\n",
    "\n",
    "time_end = time.time()\n",
    "\n",
    "filename = 'nn_model_prepay.sav'\n",
    "#filename = 'nn_model_date_prepay.sav'\n",
    "\n",
    "pickle.dump(model, open(filename, 'wb'))\n",
    "model = pickle.load(open(filename, 'rb'))\n",
    "\n",
    "lr_probs = model.predict_proba(testX)\n",
    "# keep probabilities for the positive outcome only\n",
    "lr_probs = lr_probs[:, 1]\n",
    "# calculate scores\n",
    "ns_auc = roc_auc_score(testy, ns_probs)\n",
    "lr_auc = roc_auc_score(testy, lr_probs)\n",
    "# summarize scores\n",
    "print('No Skill: ROC AUC=%.3f' % (ns_auc))\n",
    "print('MLPClassifier: ROC AUC=%.3f' % (lr_auc))\n",
    "# calculate roc curves\n",
    "ns_fpr, ns_tpr, _ = roc_curve(testy, ns_probs)\n",
    "lr_fpr, lr_tpr, _ = roc_curve(testy, lr_probs)\n",
    "# plot the roc curve for the model\n",
    "plt.plot(ns_fpr, ns_tpr, linestyle='--', label='No Skill')\n",
    "plt.plot(lr_fpr, lr_tpr, marker='.', label='MLPClassifier')\n",
    "# axis labels\n",
    "plt.xlabel('False Positive Rate')\n",
    "plt.ylabel('True Positive Rate')\n",
    "# show the legend\n",
    "plt.legend()\n",
    "# show the plot\n",
    "plt.show()\n",
    "\n",
    "print (time_end - time_start, \"s\")"
   ]
  },
  {
   "cell_type": "code",
   "execution_count": null,
   "id": "2c545ba2",
   "metadata": {},
   "outputs": [],
   "source": [
    "\n"
   ]
  },
  {
   "cell_type": "code",
   "execution_count": null,
   "id": "280ca21c",
   "metadata": {},
   "outputs": [],
   "source": []
  }
 ],
 "metadata": {
  "kernelspec": {
   "display_name": "conda_tensorflow_p36",
   "language": "python",
   "name": "conda_tensorflow_p36"
  },
  "language_info": {
   "codemirror_mode": {
    "name": "ipython",
    "version": 3
   },
   "file_extension": ".py",
   "mimetype": "text/x-python",
   "name": "python",
   "nbconvert_exporter": "python",
   "pygments_lexer": "ipython3",
   "version": "3.6.13"
  }
 },
 "nbformat": 4,
 "nbformat_minor": 5
}
