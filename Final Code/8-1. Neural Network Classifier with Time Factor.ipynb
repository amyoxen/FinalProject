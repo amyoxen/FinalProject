{
 "cells": [
  {
   "cell_type": "code",
   "execution_count": 2,
   "id": "284c4f92",
   "metadata": {},
   "outputs": [],
   "source": [
    "import pandas as pd\n",
    "from sklearn.neural_network import MLPClassifier\n",
    "from sklearn.model_selection import train_test_split\n",
    "from sklearn.metrics import roc_curve\n",
    "from sklearn.metrics import roc_auc_score\n",
    "import time\n",
    "import matplotlib.pyplot as plt\n",
    "import numpy as np\n",
    "import pickle"
   ]
  },
  {
   "cell_type": "code",
   "execution_count": 3,
   "id": "9dee23de",
   "metadata": {},
   "outputs": [],
   "source": [
    "#store = pd.HDFStore('X_pca.h5')\n",
    "#X_pca = store['X_pca']\n",
    "\n",
    "store = pd.HDFStore('X_pca.h5')\n",
    "X_pca = store['X_pca']\n",
    "\n",
    "store = pd.HDFStore('X_mob.h5')\n",
    "X_mob = store['X_mob']\n",
    "\n",
    "store = pd.HDFStore('X_month.h5')\n",
    "X_month = store['X_month']\n",
    "\n",
    "store = pd.HDFStore('X_year.h5')\n",
    "X_year = store['X_year']\n",
    "\n",
    "store = pd.HDFStore('y_default.h5')\n",
    "y_default = store['y_default']\n",
    "\n",
    "store = pd.HDFStore('y_prepay.h5')\n",
    "y_prepay = store['y_prepay']\n",
    "\n",
    "X_pca = X_pca.join(X_mob)\n",
    "X_pca = X_pca.join(X_month)\n",
    "X_pca = X_pca.join(X_year)"
   ]
  },
  {
   "cell_type": "code",
   "execution_count": 4,
   "id": "3bbeae12",
   "metadata": {},
   "outputs": [],
   "source": [
    "X_pca_add = X_pca[X_pca['mob']>4].copy()\n",
    "X_pca_add['mob'] = np.ceil(X_pca_add['mob']/2)\n",
    "X_pca_add_half_sample = X_pca_add.sample(frac = 0.5)\n",
    "X_pca = pd.concat([X_pca, X_pca_add_half_sample])\n",
    "\n",
    "zeros = pd.DataFrame(np.zeros(X_pca_add_half_sample.shape[0]))\n",
    "y_default = pd.concat([y_default,zeros])\n",
    "y_prepay = pd.concat([y_prepay,zeros])"
   ]
  },
  {
   "cell_type": "code",
   "execution_count": 5,
   "id": "b87130a6",
   "metadata": {},
   "outputs": [],
   "source": [
    "X_pca_add = X_pca[X_pca['mob']>4].copy()\n",
    "X_pca_add['mob'] = np.ceil(X_pca_add['mob']/4*3)\n",
    "X_pca_add_half_sample = X_pca_add.sample(frac = 0.5)\n",
    "X_pca = pd.concat([X_pca, X_pca_add_half_sample])\n",
    "\n",
    "zeros = pd.DataFrame(np.zeros(X_pca_add_half_sample.shape[0]))\n",
    "y_default = pd.concat([y_default,zeros])\n",
    "y_prepay = pd.concat([y_prepay,zeros])"
   ]
  },
  {
   "cell_type": "code",
   "execution_count": 6,
   "id": "22b90601",
   "metadata": {},
   "outputs": [],
   "source": [
    "X_pca_add = X_pca[X_pca['mob']>4].copy()\n",
    "X_pca_add['mob'] = np.ceil(X_pca_add['mob']/4)\n",
    "X_pca_add_half_sample = X_pca_add.sample(frac = 0.5)\n",
    "X_pca = pd.concat([X_pca, X_pca_add_half_sample])\n",
    "\n",
    "zeros = pd.DataFrame(np.zeros(X_pca_add_half_sample.shape[0]))\n",
    "y_default = pd.concat([y_default,zeros])\n",
    "y_prepay = pd.concat([y_prepay,zeros])"
   ]
  },
  {
   "cell_type": "code",
   "execution_count": null,
   "id": "86d4974b",
   "metadata": {},
   "outputs": [],
   "source": [
    "X_pca.shape"
   ]
  },
  {
   "cell_type": "code",
   "execution_count": 7,
   "id": "8deefe0c",
   "metadata": {},
   "outputs": [],
   "source": [
    "trainX, testX, trainy, testy = train_test_split(X_pca, y_default, test_size=0.2, random_state=2)\n",
    "# generate a no skill prediction (majority class)\n",
    "ns_probs = [0 for _ in range(len(testy))]"
   ]
  },
  {
   "cell_type": "code",
   "execution_count": 8,
   "id": "603352a4",
   "metadata": {},
   "outputs": [
    {
     "name": "stderr",
     "output_type": "stream",
     "text": [
      "/home/ec2-user/anaconda3/envs/tensorflow_p36/lib/python3.6/site-packages/sklearn/utils/validation.py:63: DataConversionWarning: A column-vector y was passed when a 1d array was expected. Please change the shape of y to (n_samples, ), for example using ravel().\n",
      "  return f(*args, **kwargs)\n"
     ]
    },
    {
     "name": "stdout",
     "output_type": "stream",
     "text": [
      "Iteration 1, loss = 0.16612508\n",
      "Validation score: 0.959574\n",
      "Iteration 2, loss = 0.15038388\n",
      "Validation score: 0.959574\n",
      "Iteration 3, loss = 0.14836175\n",
      "Validation score: 0.959574\n",
      "Iteration 4, loss = 0.14769514\n",
      "Validation score: 0.959574\n",
      "Iteration 5, loss = 0.14744204\n",
      "Validation score: 0.959574\n",
      "Iteration 6, loss = 0.14733597\n",
      "Validation score: 0.959574\n",
      "Iteration 7, loss = 0.14710568\n",
      "Validation score: 0.959574\n",
      "Iteration 8, loss = 0.14710460\n",
      "Validation score: 0.959574\n",
      "Iteration 9, loss = 0.14695897\n",
      "Validation score: 0.959574\n",
      "Iteration 10, loss = 0.14691354\n",
      "Validation score: 0.959568\n"
     ]
    },
    {
     "name": "stderr",
     "output_type": "stream",
     "text": [
      "/home/ec2-user/anaconda3/envs/tensorflow_p36/lib/python3.6/site-packages/sklearn/neural_network/_multilayer_perceptron.py:617: ConvergenceWarning: Stochastic Optimizer: Maximum iterations (10) reached and the optimization hasn't converged yet.\n",
      "  % self.max_iter, ConvergenceWarning)\n"
     ]
    },
    {
     "name": "stdout",
     "output_type": "stream",
     "text": [
      "No Skill: ROC AUC=0.500\n",
      "MLPClassifier: ROC AUC=0.787\n"
     ]
    },
    {
     "data": {
      "image/png": "[encoded data removed]",
      "text/plain": [
       "<Figure size 432x288 with 1 Axes>"
      ]
     },
     "metadata": {
      "needs_background": "light"
     },
     "output_type": "display_data"
    },
    {
     "name": "stdout",
     "output_type": "stream",
     "text": [
      "637.1354324817657 s\n"
     ]
    }
   ],
   "source": [
    "time_start = time.time()\n",
    "model = MLPClassifier(hidden_layer_sizes=(128, 32, 32, 128), max_iter=10, early_stopping=True, learning_rate_init=0.001, verbose=True)\n",
    "model.fit(trainX, trainy)\n",
    "time_end = time.time()\n",
    "\n",
    "# save the model to disk\n",
    "filename = 'nn_model_default.sav'\n",
    "#filename = 'nn_model_date_default.sav'\n",
    "\n",
    "pickle.dump(model, open(filename, 'wb'))\n",
    "model = pickle.load(open(filename, 'rb'))\n",
    "\n",
    "lr_probs = model.predict_proba(testX)\n",
    "# keep probabilities for the positive outcome only\n",
    "lr_probs = lr_probs[:, 1]\n",
    "# calculate scores\n",
    "ns_auc = roc_auc_score(testy, ns_probs)\n",
    "lr_auc = roc_auc_score(testy, lr_probs)\n",
    "# summarize scores\n",
    "print('No Skill: ROC AUC=%.3f' % (ns_auc))\n",
    "print('MLPClassifier: ROC AUC=%.3f' % (lr_auc))\n",
    "# calculate roc curves\n",
    "ns_fpr, ns_tpr, _ = roc_curve(testy, ns_probs)\n",
    "lr_fpr, lr_tpr, _ = roc_curve(testy, lr_probs)\n",
    "# plot the roc curve for the model\n",
    "plt.plot(ns_fpr, ns_tpr, linestyle='--', label='No Skill')\n",
    "plt.plot(lr_fpr, lr_tpr, marker='.', label='MLPClassifier')\n",
    "# axis labels\n",
    "plt.xlabel('False Positive Rate')\n",
    "plt.ylabel('True Positive Rate')\n",
    "# show the legend\n",
    "plt.legend()\n",
    "# show the plot\n",
    "plt.show()\n",
    "\n",
    "print (time_end - time_start, \"s\")"
   ]
  },
  {
   "cell_type": "code",
   "execution_count": 9,
   "id": "76d8c7ae",
   "metadata": {},
   "outputs": [],
   "source": [
    "trainX, testX, trainy, testy = train_test_split(X_pca, y_prepay, test_size=0.2, random_state=2)\n",
    "# generate a no skill prediction (majority class)\n",
    "ns_probs = [0 for _ in range(len(testy))]"
   ]
  },
  {
   "cell_type": "code",
   "execution_count": 10,
   "id": "c781c72a",
   "metadata": {},
   "outputs": [
    {
     "name": "stderr",
     "output_type": "stream",
     "text": [
      "/home/ec2-user/anaconda3/envs/tensorflow_p36/lib/python3.6/site-packages/sklearn/utils/validation.py:63: DataConversionWarning: A column-vector y was passed when a 1d array was expected. Please change the shape of y to (n_samples, ), for example using ravel().\n",
      "  return f(*args, **kwargs)\n"
     ]
    },
    {
     "name": "stdout",
     "output_type": "stream",
     "text": [
      "Iteration 1, loss = 0.38698429\n",
      "Validation score: 0.875759\n",
      "Iteration 2, loss = 0.37549078\n",
      "Validation score: 0.875759\n",
      "Iteration 3, loss = 0.37548835\n",
      "Validation score: 0.875759\n",
      "Iteration 4, loss = 0.37547096\n",
      "Validation score: 0.875759\n",
      "Iteration 5, loss = 0.37545394\n",
      "Validation score: 0.875759\n",
      "Iteration 6, loss = 0.37542480\n",
      "Validation score: 0.875759\n",
      "Iteration 7, loss = 0.37539484\n",
      "Validation score: 0.875759\n",
      "Iteration 8, loss = 0.37227074\n",
      "Validation score: 0.875759\n",
      "Iteration 9, loss = 0.36353167\n",
      "Validation score: 0.875759\n",
      "Iteration 10, loss = 0.36309221\n",
      "Validation score: 0.875759\n"
     ]
    },
    {
     "name": "stderr",
     "output_type": "stream",
     "text": [
      "/home/ec2-user/anaconda3/envs/tensorflow_p36/lib/python3.6/site-packages/sklearn/neural_network/_multilayer_perceptron.py:617: ConvergenceWarning: Stochastic Optimizer: Maximum iterations (10) reached and the optimization hasn't converged yet.\n",
      "  % self.max_iter, ConvergenceWarning)\n"
     ]
    },
    {
     "name": "stdout",
     "output_type": "stream",
     "text": [
      "No Skill: ROC AUC=0.500\n",
      "MLPClassifier: ROC AUC=0.500\n"
     ]
    },
    {
     "data": {
      "image/png": "[encoded data removed]",
      "text/plain": [
       "<Figure size 432x288 with 1 Axes>"
      ]
     },
     "metadata": {
      "needs_background": "light"
     },
     "output_type": "display_data"
    },
    {
     "name": "stdout",
     "output_type": "stream",
     "text": [
      "619.6297090053558 s\n"
     ]
    }
   ],
   "source": [
    "time_start = time.time()\n",
    "model = MLPClassifier(hidden_layer_sizes=(128, 32, 32, 128), max_iter=10, early_stopping=True, learning_rate_init=0.001, verbose=True)\n",
    "model.fit(trainX, trainy)\n",
    "\n",
    "time_end = time.time()\n",
    "\n",
    "filename = 'nn_model_prepay.sav'\n",
    "#filename = 'nn_model_date_prepay.sav'\n",
    "\n",
    "pickle.dump(model, open(filename, 'wb'))\n",
    "model = pickle.load(open(filename, 'rb'))\n",
    "\n",
    "\n",
    "lr_probs = model.predict_proba(testX)\n",
    "# keep probabilities for the positive outcome only\n",
    "lr_probs = lr_probs[:, 1]\n",
    "# calculate scores\n",
    "ns_auc = roc_auc_score(testy, ns_probs)\n",
    "lr_auc = roc_auc_score(testy, lr_probs)\n",
    "# summarize scores\n",
    "print('No Skill: ROC AUC=%.3f' % (ns_auc))\n",
    "print('MLPClassifier: ROC AUC=%.3f' % (lr_auc))\n",
    "# calculate roc curves\n",
    "ns_fpr, ns_tpr, _ = roc_curve(testy, ns_probs)\n",
    "lr_fpr, lr_tpr, _ = roc_curve(testy, lr_probs)\n",
    "# plot the roc curve for the model\n",
    "plt.plot(ns_fpr, ns_tpr, linestyle='--', label='No Skill')\n",
    "plt.plot(lr_fpr, lr_tpr, marker='.', label='MLPClassifier')\n",
    "# axis labels\n",
    "plt.xlabel('False Positive Rate')\n",
    "plt.ylabel('True Positive Rate')\n",
    "# show the legend\n",
    "plt.legend()\n",
    "# show the plot\n",
    "plt.show()\n",
    "\n",
    "print (time_end - time_start, \"s\")"
   ]
  }
 ],
 "metadata": {
  "kernelspec": {
   "display_name": "conda_tensorflow_p36",
   "language": "python",
   "name": "conda_tensorflow_p36"
  },
  "language_info": {
   "codemirror_mode": {
    "name": "ipython",
    "version": 3
   },
   "file_extension": ".py",
   "mimetype": "text/x-python",
   "name": "python",
   "nbconvert_exporter": "python",
   "pygments_lexer": "ipython3",
   "version": "3.6.13"
  }
 },
 "nbformat": 4,
 "nbformat_minor": 5
}
