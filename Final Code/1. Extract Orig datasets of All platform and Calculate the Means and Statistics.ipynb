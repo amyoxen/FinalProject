{
 "cells": [
  {
   "cell_type": "code",
   "execution_count": 1,
   "id": "a0098661",
   "metadata": {},
   "outputs": [],
   "source": [
    "import pandas as pd\n",
    "import numpy as np\n",
    "import matplotlib.pyplot as plt\n",
    "import seaborn as sns"
   ]
  },
  {
   "cell_type": "markdown",
   "id": "0509a43d",
   "metadata": {},
   "source": [
    "Extract and combine all orig datasets. Store the data into h5 format for faster access."
   ]
  },
  {
   "cell_type": "code",
   "execution_count": 2,
   "id": "04ae3014",
   "metadata": {},
   "outputs": [],
   "source": [
    "li = []\n",
    "df_a_orig = pd.read_csv('data/Zach_Statham_platform_a_orig_data.csv', index_col=None, header=0)\n",
    "li.append(df_a_orig)\n",
    "df_b_orig = pd.read_csv('data/Zach_Statham_platform_b_orig_data.csv', index_col=None, header=0)\n",
    "li.append(df_b_orig)\n",
    "df_c_orig = pd.read_csv('data/Zach_Statham_platform_c_orig_data.csv', index_col=None, header=0)\n",
    "li.append(df_c_orig)"
   ]
  },
  {
   "cell_type": "code",
   "execution_count": 3,
   "id": "f95509d4",
   "metadata": {},
   "outputs": [],
   "source": [
    "frame = pd.concat(li, axis=0, ignore_index=True)"
   ]
  },
  {
   "cell_type": "code",
   "execution_count": 4,
   "id": "af6cfd91",
   "metadata": {
    "scrolled": false
   },
   "outputs": [
    {
     "name": "stderr",
     "output_type": "stream",
     "text": [
      "/home/ec2-user/anaconda3/envs/tensorflow_p36/lib/python3.6/site-packages/IPython/core/interactiveshell.py:3343: PerformanceWarning: \n",
      "your performance may suffer as PyTables will pickle object types that it cannot\n",
      "map directly to c-types [inferred_type->mixed-integer,key->block2_values] [items->Index(['unique_id', 'Orig_Date', 'grade', 'home_ownership', 'platform_id',\n",
      "       'orig_date'],\n",
      "      dtype='object')]\n",
      "\n",
      "  exec(code_obj, self.user_global_ns, self.user_ns)\n"
     ]
    }
   ],
   "source": [
    "store = pd.HDFStore('df_all_orig.h5')\n",
    "store['df_all_orig'] = frame  # save it"
   ]
  },
  {
   "cell_type": "code",
   "execution_count": 5,
   "id": "ffd00c0e",
   "metadata": {},
   "outputs": [],
   "source": [
    "%reset -f"
   ]
  },
  {
   "cell_type": "markdown",
   "id": "0ab6c4f0",
   "metadata": {},
   "source": [
    "Calculate the means of all column and will use it to treat missing values."
   ]
  },
  {
   "cell_type": "code",
   "execution_count": 6,
   "id": "6ae7a4cb",
   "metadata": {},
   "outputs": [],
   "source": [
    "import pandas as pd\n",
    "import numpy as np\n",
    "import matplotlib.pyplot as plt\n",
    "import seaborn as sns"
   ]
  },
  {
   "cell_type": "code",
   "execution_count": 7,
   "id": "5fcc0cd2",
   "metadata": {},
   "outputs": [],
   "source": [
    "store = pd.HDFStore('df_all_orig.h5')\n",
    "df_all_orig = store['df_all_orig']"
   ]
  },
  {
   "cell_type": "code",
   "execution_count": 8,
   "id": "08b1c502",
   "metadata": {},
   "outputs": [
    {
     "name": "stdout",
     "output_type": "stream",
     "text": [
      "loan_amount            14190.012063\n",
      "monthly_payment          426.565362\n",
      "income                 81628.434656\n",
      "inq_last_6m                0.745387\n",
      "num_open_accts            11.074699\n",
      "revol_bal              14571.576638\n",
      "num_tot_accts             21.478623\n",
      "tot_credit_bal        133845.268705\n",
      "accts_opn_last_6m         29.927927\n",
      "inq_last_12m               2.363403\n",
      "accts_opn_last_24m         4.593272\n",
      "employment_length          5.131973\n",
      "int_rate                  14.490662\n",
      "earliest_cr_line         179.026931\n",
      "fico                     703.875516\n",
      "util_rate                 46.936703\n",
      "loan_over_income           0.472821\n",
      "term                      43.477927\n",
      "dti                        0.210065\n",
      "dtype: float64\n"
     ]
    }
   ],
   "source": [
    "means = df_all_orig.mean()\n",
    "print (means)"
   ]
  },
  {
   "cell_type": "code",
   "execution_count": 9,
   "id": "0644f8a1",
   "metadata": {},
   "outputs": [],
   "source": [
    "store = pd.HDFStore('df_all_orig_means.h5')\n",
    "store['df_all_orig_means'] = means  # save it"
   ]
  },
  {
   "cell_type": "code",
   "execution_count": null,
   "id": "213ad860",
   "metadata": {},
   "outputs": [],
   "source": [
    "df_all_orig.describe()"
   ]
  }
 ],
 "metadata": {
  "kernelspec": {
   "display_name": "conda_tensorflow_p36",
   "language": "python",
   "name": "conda_tensorflow_p36"
  },
  "language_info": {
   "codemirror_mode": {
    "name": "ipython",
    "version": 3
   },
   "file_extension": ".py",
   "mimetype": "text/x-python",
   "name": "python",
   "nbconvert_exporter": "python",
   "pygments_lexer": "ipython3",
   "version": "3.6.13"
  }
 },
 "nbformat": 4,
 "nbformat_minor": 5
}
