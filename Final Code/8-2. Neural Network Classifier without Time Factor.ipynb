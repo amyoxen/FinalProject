{
 "cells": [
  {
   "cell_type": "code",
   "execution_count": 1,
   "id": "9449a731",
   "metadata": {},
   "outputs": [],
   "source": [
    "import pandas as pd\n",
    "from sklearn.neural_network import MLPClassifier\n",
    "from sklearn.model_selection import train_test_split\n",
    "from sklearn.metrics import roc_curve\n",
    "from sklearn.metrics import roc_auc_score\n",
    "import time\n",
    "import matplotlib.pyplot as plt\n",
    "import numpy as np\n",
    "import pickle"
   ]
  },
  {
   "cell_type": "code",
   "execution_count": 2,
   "id": "f35f07b1",
   "metadata": {},
   "outputs": [],
   "source": [
    "#store = pd.HDFStore('X_pca.h5')\n",
    "#X_pca = store['X_pca']\n",
    "\n",
    "store = pd.HDFStore('X_pca.h5')\n",
    "X_pca = store['X_pca']\n",
    "\n",
    "store = pd.HDFStore('X_mob.h5')\n",
    "X_mob = store['X_mob']\n",
    "\n",
    "store = pd.HDFStore('y_default.h5')\n",
    "y_default = store['y_default']\n",
    "\n",
    "store = pd.HDFStore('y_prepay.h5')\n",
    "y_prepay = store['y_prepay']\n",
    "\n",
    "X_pca = X_pca.join(X_mob)"
   ]
  },
  {
   "cell_type": "code",
   "execution_count": 3,
   "id": "e402b030",
   "metadata": {},
   "outputs": [],
   "source": [
    "X_pca_add = X_pca[X_pca['mob']>4].copy()\n",
    "X_pca_add['mob'] = np.ceil(X_pca_add['mob']/2)\n",
    "X_pca_add_half_sample = X_pca_add.sample(frac = 0.5)\n",
    "X_pca = pd.concat([X_pca, X_pca_add_half_sample])\n",
    "\n",
    "zeros = pd.DataFrame(np.zeros(X_pca_add_half_sample.shape[0]))\n",
    "y_default = pd.concat([y_default,zeros])\n",
    "y_prepay = pd.concat([y_prepay,zeros])"
   ]
  },
  {
   "cell_type": "code",
   "execution_count": 4,
   "id": "62799304",
   "metadata": {},
   "outputs": [],
   "source": [
    "X_pca_add = X_pca[X_pca['mob']>4].copy()\n",
    "X_pca_add['mob'] = np.ceil(X_pca_add['mob']/4*3)\n",
    "X_pca_add_half_sample = X_pca_add.sample(frac = 0.5)\n",
    "X_pca = pd.concat([X_pca, X_pca_add_half_sample])\n",
    "\n",
    "zeros = pd.DataFrame(np.zeros(X_pca_add_half_sample.shape[0]))\n",
    "y_default = pd.concat([y_default,zeros])\n",
    "y_prepay = pd.concat([y_prepay,zeros])"
   ]
  },
  {
   "cell_type": "code",
   "execution_count": 5,
   "id": "0bdeb4bf",
   "metadata": {},
   "outputs": [],
   "source": [
    "X_pca_add = X_pca[X_pca['mob']>4].copy()\n",
    "X_pca_add['mob'] = np.ceil(X_pca_add['mob']/4)\n",
    "X_pca_add_half_sample = X_pca_add.sample(frac = 0.5)\n",
    "X_pca = pd.concat([X_pca, X_pca_add_half_sample])\n",
    "\n",
    "zeros = pd.DataFrame(np.zeros(X_pca_add_half_sample.shape[0]))\n",
    "y_default = pd.concat([y_default,zeros])\n",
    "y_prepay = pd.concat([y_prepay,zeros])"
   ]
  },
  {
   "cell_type": "code",
   "execution_count": 6,
   "id": "a6bed406",
   "metadata": {},
   "outputs": [
    {
     "data": {
      "text/plain": [
       "(1927966, 12)"
      ]
     },
     "execution_count": 6,
     "metadata": {},
     "output_type": "execute_result"
    }
   ],
   "source": [
    "X_pca.shape"
   ]
  },
  {
   "cell_type": "code",
   "execution_count": 7,
   "id": "415aefb9",
   "metadata": {},
   "outputs": [],
   "source": [
    "trainX, testX, trainy, testy = train_test_split(X_pca, y_default, test_size=0.2, random_state=2)\n",
    "# generate a no skill prediction (majority class)\n",
    "ns_probs = [0 for _ in range(len(testy))]"
   ]
  },
  {
   "cell_type": "code",
   "execution_count": 8,
   "id": "1eec7411",
   "metadata": {},
   "outputs": [
    {
     "name": "stderr",
     "output_type": "stream",
     "text": [
      "/home/ec2-user/anaconda3/envs/tensorflow_p36/lib/python3.6/site-packages/sklearn/utils/validation.py:63: DataConversionWarning: A column-vector y was passed when a 1d array was expected. Please change the shape of y to (n_samples, ), for example using ravel().\n",
      "  return f(*args, **kwargs)\n"
     ]
    },
    {
     "name": "stdout",
     "output_type": "stream",
     "text": [
      "Iteration 1, loss = 0.14843341\n",
      "Validation score: 0.959601\n",
      "Iteration 2, loss = 0.14614422\n",
      "Validation score: 0.959601\n",
      "Iteration 3, loss = 0.14584373\n",
      "Validation score: 0.959601\n",
      "Iteration 4, loss = 0.14559785\n",
      "Validation score: 0.959601\n",
      "Iteration 5, loss = 0.14542129\n",
      "Validation score: 0.959595\n",
      "Iteration 6, loss = 0.14529730\n",
      "Validation score: 0.959601\n",
      "Iteration 7, loss = 0.14523263\n",
      "Validation score: 0.959601\n",
      "Iteration 8, loss = 0.14514222\n",
      "Validation score: 0.959601\n",
      "Iteration 9, loss = 0.14506567\n",
      "Validation score: 0.959601\n",
      "Iteration 10, loss = 0.14500876\n",
      "Validation score: 0.959601\n"
     ]
    },
    {
     "name": "stderr",
     "output_type": "stream",
     "text": [
      "/home/ec2-user/anaconda3/envs/tensorflow_p36/lib/python3.6/site-packages/sklearn/neural_network/_multilayer_perceptron.py:617: ConvergenceWarning: Stochastic Optimizer: Maximum iterations (10) reached and the optimization hasn't converged yet.\n",
      "  % self.max_iter, ConvergenceWarning)\n"
     ]
    },
    {
     "name": "stdout",
     "output_type": "stream",
     "text": [
      "No Skill: ROC AUC=0.500\n",
      "MLPClassifier: ROC AUC=0.793\n"
     ]
    },
    {
     "data": {
      "image/png": "[encoded data removed]",
      "text/plain": [
       "<Figure size 432x288 with 1 Axes>"
      ]
     },
     "metadata": {
      "needs_background": "light"
     },
     "output_type": "display_data"
    },
    {
     "name": "stdout",
     "output_type": "stream",
     "text": [
      "532.8561415672302 s\n"
     ]
    }
   ],
   "source": [
    "time_start = time.time()\n",
    "model = MLPClassifier(hidden_layer_sizes=(128, 32, 32, 128), max_iter=10, early_stopping=True, learning_rate_init=0.001, verbose=True)\n",
    "model.fit(trainX, trainy)\n",
    "time_end = time.time()\n",
    "\n",
    "# save the model to disk\n",
    "filename = 'nn_model_no_Time_default.sav'\n",
    "#filename = 'nn_model_date_default.sav'\n",
    "\n",
    "pickle.dump(model, open(filename, 'wb'))\n",
    "model = pickle.load(open(filename, 'rb'))\n",
    "\n",
    "lr_probs = model.predict_proba(testX)\n",
    "# keep probabilities for the positive outcome only\n",
    "lr_probs = lr_probs[:, 1]\n",
    "# calculate scores\n",
    "ns_auc = roc_auc_score(testy, ns_probs)\n",
    "lr_auc = roc_auc_score(testy, lr_probs)\n",
    "# summarize scores\n",
    "print('No Skill: ROC AUC=%.3f' % (ns_auc))\n",
    "print('MLPClassifier: ROC AUC=%.3f' % (lr_auc))\n",
    "# calculate roc curves\n",
    "ns_fpr, ns_tpr, _ = roc_curve(testy, ns_probs)\n",
    "lr_fpr, lr_tpr, _ = roc_curve(testy, lr_probs)\n",
    "# plot the roc curve for the model\n",
    "plt.plot(ns_fpr, ns_tpr, linestyle='--', label='No Skill')\n",
    "plt.plot(lr_fpr, lr_tpr, marker='.', label='MLPClassifier')\n",
    "# axis labels\n",
    "plt.xlabel('False Positive Rate')\n",
    "plt.ylabel('True Positive Rate')\n",
    "# show the legend\n",
    "plt.legend()\n",
    "# show the plot\n",
    "plt.show()\n",
    "\n",
    "print (time_end - time_start, \"s\")"
   ]
  },
  {
   "cell_type": "code",
   "execution_count": 9,
   "id": "d69c3f68",
   "metadata": {},
   "outputs": [],
   "source": [
    "trainX, testX, trainy, testy = train_test_split(X_pca, y_prepay, test_size=0.2, random_state=2)\n",
    "# generate a no skill prediction (majority class)\n",
    "ns_probs = [0 for _ in range(len(testy))]"
   ]
  },
  {
   "cell_type": "code",
   "execution_count": 10,
   "id": "99eca17d",
   "metadata": {},
   "outputs": [
    {
     "name": "stderr",
     "output_type": "stream",
     "text": [
      "/home/ec2-user/anaconda3/envs/tensorflow_p36/lib/python3.6/site-packages/sklearn/utils/validation.py:63: DataConversionWarning: A column-vector y was passed when a 1d array was expected. Please change the shape of y to (n_samples, ), for example using ravel().\n",
      "  return f(*args, **kwargs)\n"
     ]
    },
    {
     "name": "stdout",
     "output_type": "stream",
     "text": [
      "Iteration 1, loss = 0.35165904\n",
      "Validation score: 0.879057\n",
      "Iteration 2, loss = 0.34816017\n",
      "Validation score: 0.879064\n",
      "Iteration 3, loss = 0.34673690\n",
      "Validation score: 0.879965\n",
      "Iteration 4, loss = 0.34569908\n",
      "Validation score: 0.880684\n",
      "Iteration 5, loss = 0.34420739\n",
      "Validation score: 0.880522\n",
      "Iteration 6, loss = 0.34351173\n",
      "Validation score: 0.879466\n",
      "Iteration 7, loss = 0.34279086\n",
      "Validation score: 0.880529\n",
      "Iteration 8, loss = 0.34220860\n",
      "Validation score: 0.880762\n",
      "Iteration 9, loss = 0.34184097\n",
      "Validation score: 0.880944\n",
      "Iteration 10, loss = 0.34155631\n",
      "Validation score: 0.881184\n"
     ]
    },
    {
     "name": "stderr",
     "output_type": "stream",
     "text": [
      "/home/ec2-user/anaconda3/envs/tensorflow_p36/lib/python3.6/site-packages/sklearn/neural_network/_multilayer_perceptron.py:617: ConvergenceWarning: Stochastic Optimizer: Maximum iterations (10) reached and the optimization hasn't converged yet.\n",
      "  % self.max_iter, ConvergenceWarning)\n"
     ]
    },
    {
     "name": "stdout",
     "output_type": "stream",
     "text": [
      "No Skill: ROC AUC=0.500\n",
      "MLPClassifier: ROC AUC=0.701\n"
     ]
    },
    {
     "data": {
      "image/png": "[encoded data removed]",
      "text/plain": [
       "<Figure size 432x288 with 1 Axes>"
      ]
     },
     "metadata": {
      "needs_background": "light"
     },
     "output_type": "display_data"
    },
    {
     "name": "stdout",
     "output_type": "stream",
     "text": [
      "452.38178849220276 s\n"
     ]
    }
   ],
   "source": [
    "time_start = time.time()\n",
    "model = MLPClassifier(hidden_layer_sizes=(128, 32, 32, 128), max_iter=10, early_stopping=True, learning_rate_init=0.001, verbose=True)\n",
    "model.fit(trainX, trainy)\n",
    "\n",
    "time_end = time.time()\n",
    "\n",
    "filename = 'nn_model_no_Time_prepay.sav'\n",
    "#filename = 'nn_model_date_prepay.sav'\n",
    "\n",
    "pickle.dump(model, open(filename, 'wb'))\n",
    "model = pickle.load(open(filename, 'rb'))\n",
    "\n",
    "lr_probs = model.predict_proba(testX)\n",
    "# keep probabilities for the positive outcome only\n",
    "lr_probs = lr_probs[:, 1]\n",
    "# calculate scores\n",
    "ns_auc = roc_auc_score(testy, ns_probs)\n",
    "lr_auc = roc_auc_score(testy, lr_probs)\n",
    "# summarize scores\n",
    "print('No Skill: ROC AUC=%.3f' % (ns_auc))\n",
    "print('MLPClassifier: ROC AUC=%.3f' % (lr_auc))\n",
    "# calculate roc curves\n",
    "ns_fpr, ns_tpr, _ = roc_curve(testy, ns_probs)\n",
    "lr_fpr, lr_tpr, _ = roc_curve(testy, lr_probs)\n",
    "# plot the roc curve for the model\n",
    "plt.plot(ns_fpr, ns_tpr, linestyle='--', label='No Skill')\n",
    "plt.plot(lr_fpr, lr_tpr, marker='.', label='MLPClassifier')\n",
    "# axis labels\n",
    "plt.xlabel('False Positive Rate')\n",
    "plt.ylabel('True Positive Rate')\n",
    "# show the legend\n",
    "plt.legend()\n",
    "# show the plot\n",
    "plt.show()\n",
    "\n",
    "print (time_end - time_start, \"s\")"
   ]
  }
 ],
 "metadata": {
  "kernelspec": {
   "display_name": "conda_tensorflow_p36",
   "language": "python",
   "name": "conda_tensorflow_p36"
  },
  "language_info": {
   "codemirror_mode": {
    "name": "ipython",
    "version": 3
   },
   "file_extension": ".py",
   "mimetype": "text/x-python",
   "name": "python",
   "nbconvert_exporter": "python",
   "pygments_lexer": "ipython3",
   "version": "3.6.13"
  }
 },
 "nbformat": 4,
 "nbformat_minor": 5
}
