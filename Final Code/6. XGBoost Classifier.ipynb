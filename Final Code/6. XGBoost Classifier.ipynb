{
 "cells": [
  {
   "cell_type": "code",
   "execution_count": 1,
   "id": "9fe172cd",
   "metadata": {},
   "outputs": [
    {
     "name": "stdout",
     "output_type": "stream",
     "text": [
      "Collecting xgboost\n",
      "  Downloading xgboost-1.5.0-py3-none-manylinux2014_x86_64.whl (173.5 MB)\n",
      "\u001b[K     |████████████████████████████████| 173.5 MB 93 kB/s s eta 0:00:01\n",
      "\u001b[?25hRequirement already satisfied: scipy in /home/ec2-user/anaconda3/envs/tensorflow_p36/lib/python3.6/site-packages (from xgboost) (1.5.3)\n",
      "Requirement already satisfied: numpy in /home/ec2-user/anaconda3/envs/tensorflow_p36/lib/python3.6/site-packages (from xgboost) (1.19.5)\n",
      "Installing collected packages: xgboost\n",
      "Successfully installed xgboost-1.5.0\n",
      "\u001b[33mWARNING: You are using pip version 21.2.4; however, version 21.3.1 is available.\n",
      "You should consider upgrading via the '/home/ec2-user/anaconda3/envs/tensorflow_p36/bin/python -m pip install --upgrade pip' command.\u001b[0m\n"
     ]
    }
   ],
   "source": [
    "!pip install xgboost"
   ]
  },
  {
   "cell_type": "code",
   "execution_count": 2,
   "id": "a40f5fd3",
   "metadata": {},
   "outputs": [],
   "source": [
    "import pandas as pd\n",
    "import xgboost as xgb\n",
    "from sklearn.model_selection import train_test_split\n",
    "from sklearn.metrics import roc_curve\n",
    "from sklearn.metrics import roc_auc_score\n",
    "import time\n",
    "import matplotlib.pyplot as plt\n",
    "import numpy as np\n",
    "import pickle"
   ]
  },
  {
   "cell_type": "code",
   "execution_count": 11,
   "id": "d938b511",
   "metadata": {},
   "outputs": [],
   "source": [
    "#store = pd.HDFStore('X_pca.h5')\n",
    "#X_pca = store['X_pca']\n",
    "\n",
    "store = pd.HDFStore('X_pca.h5')\n",
    "X_pca = store['X_pca']\n",
    "\n",
    "store = pd.HDFStore('X_mob.h5')\n",
    "X_mob = store['X_mob']\n",
    "\n",
    "\n",
    "store = pd.HDFStore('y_default.h5')\n",
    "y_default = store['y_default']\n",
    "\n",
    "store = pd.HDFStore('y_prepay.h5')\n",
    "y_prepay = store['y_prepay']\n",
    "\n",
    "X_pca = X_pca.join(X_mob)"
   ]
  },
  {
   "cell_type": "code",
   "execution_count": 12,
   "id": "41071695",
   "metadata": {},
   "outputs": [],
   "source": [
    "X_pca_add = X_pca[ X_pca['mob']>4].copy()\n",
    "X_pca_add['mob'] = np.ceil(X_pca_add['mob']/2)\n",
    "X_pca = pd.concat([X_pca, X_pca_add])\n",
    "\n",
    "zeros = pd.DataFrame(np.zeros(X_pca_add.shape[0]))\n",
    "y_default = pd.concat([y_default,zeros])\n",
    "y_prepay = pd.concat([y_prepay,zeros])"
   ]
  },
  {
   "cell_type": "code",
   "execution_count": 13,
   "id": "3d6de732",
   "metadata": {},
   "outputs": [],
   "source": [
    "X_pca_add = X_pca[ X_pca['mob']>4].copy()\n",
    "X_pca_add['mob'] = np.ceil(X_pca_add['mob']/4*3)\n",
    "X_pca = pd.concat([X_pca, X_pca_add])\n",
    "\n",
    "zeros = pd.DataFrame(np.zeros(X_pca_add.shape[0]))\n",
    "y_default = pd.concat([y_default,zeros])\n",
    "y_prepay = pd.concat([y_prepay,zeros])"
   ]
  },
  {
   "cell_type": "code",
   "execution_count": 16,
   "id": "8737566b",
   "metadata": {},
   "outputs": [],
   "source": [
    "trainX, testX, trainy, testy = train_test_split(X_pca, y_default, test_size=0.2, random_state=2)\n",
    "# generate a no skill prediction (majority class)\n",
    "ns_probs = [0 for _ in range(len(testy))]"
   ]
  },
  {
   "cell_type": "code",
   "execution_count": 17,
   "id": "7d0aeafa",
   "metadata": {},
   "outputs": [
    {
     "name": "stderr",
     "output_type": "stream",
     "text": [
      "/home/ec2-user/anaconda3/envs/tensorflow_p36/lib/python3.6/site-packages/xgboost/sklearn.py:1224: UserWarning: The use of label encoder in XGBClassifier is deprecated and will be removed in a future release. To remove this warning, do the following: 1) Pass option use_label_encoder=False when constructing XGBClassifier object; and 2) Encode your labels (y) as integers starting with 0, i.e. 0, 1, 2, ..., [num_class - 1].\n",
      "  warnings.warn(label_encoder_deprecation_msg, UserWarning)\n",
      "/home/ec2-user/anaconda3/envs/tensorflow_p36/lib/python3.6/site-packages/sklearn/utils/validation.py:63: DataConversionWarning: A column-vector y was passed when a 1d array was expected. Please change the shape of y to (n_samples, ), for example using ravel().\n",
      "  return f(*args, **kwargs)\n"
     ]
    },
    {
     "name": "stdout",
     "output_type": "stream",
     "text": [
      "[18:06:54] WARNING: ../src/learner.cc:1115: Starting in XGBoost 1.3.0, the default evaluation metric used with the objective 'binary:logistic' was changed from 'error' to 'logloss'. Explicitly set eval_metric if you'd like to restore the old behavior.\n",
      "No Skill: ROC AUC=0.500\n",
      "XGBClassifier: ROC AUC=0.804\n"
     ]
    },
    {
     "data": {
      "image/png": "[encoded data removed]",
      "text/plain": [
       "<Figure size 432x288 with 1 Axes>"
      ]
     },
     "metadata": {
      "needs_background": "light"
     },
     "output_type": "display_data"
    },
    {
     "name": "stdout",
     "output_type": "stream",
     "text": [
      "227.76941633224487 s\n"
     ]
    }
   ],
   "source": [
    "time_start = time.time()\n",
    "model = xgb.XGBClassifier(max_depth= 3, n_estimators=100)\n",
    "model.fit(trainX, trainy)\n",
    "time_end = time.time()\n",
    "\n",
    "# save the model to disk\n",
    "filename = 'xgb_model_default.sav'\n",
    "#filename = 'xgb_model_date_default.sav'\n",
    "\n",
    "pickle.dump(model, open(filename, 'wb'))\n",
    "model = pickle.load(open(filename, 'rb'))\n",
    "\n",
    "\n",
    "# predict probabilities\n",
    "lr_probs = model.predict_proba(testX)\n",
    "# keep probabilities for the positive outcome only\n",
    "lr_probs = lr_probs[:, 1]\n",
    "# calculate scores\n",
    "ns_auc = roc_auc_score(testy, ns_probs)\n",
    "lr_auc = roc_auc_score(testy, lr_probs)\n",
    "# summarize scores\n",
    "print('No Skill: ROC AUC=%.3f' % (ns_auc))\n",
    "print('XGBClassifier: ROC AUC=%.3f' % (lr_auc))\n",
    "# calculate roc curves\n",
    "ns_fpr, ns_tpr, _ = roc_curve(testy, ns_probs)\n",
    "lr_fpr, lr_tpr, _ = roc_curve(testy, lr_probs)\n",
    "# plot the roc curve for the model\n",
    "plt.plot(ns_fpr, ns_tpr, linestyle='--', label='No Skill')\n",
    "plt.plot(lr_fpr, lr_tpr, marker='.', label='XGBClassifier')\n",
    "# axis labels\n",
    "plt.xlabel('False Positive Rate')\n",
    "plt.ylabel('True Positive Rate')\n",
    "# show the legend\n",
    "plt.legend()\n",
    "# show the plot\n",
    "plt.show()\n",
    "print (time_end - time_start, \"s\")"
   ]
  },
  {
   "cell_type": "code",
   "execution_count": 18,
   "id": "4f3fc3bc",
   "metadata": {},
   "outputs": [],
   "source": [
    "trainX, testX, trainy, testy = train_test_split(X_pca, y_prepay, test_size=0.2, random_state=2)\n",
    "# generate a no skill prediction (majority class)\n",
    "ns_probs = [0 for _ in range(len(testy))]"
   ]
  },
  {
   "cell_type": "code",
   "execution_count": 19,
   "id": "69caecc6",
   "metadata": {},
   "outputs": [
    {
     "name": "stderr",
     "output_type": "stream",
     "text": [
      "/home/ec2-user/anaconda3/envs/tensorflow_p36/lib/python3.6/site-packages/xgboost/sklearn.py:1224: UserWarning: The use of label encoder in XGBClassifier is deprecated and will be removed in a future release. To remove this warning, do the following: 1) Pass option use_label_encoder=False when constructing XGBClassifier object; and 2) Encode your labels (y) as integers starting with 0, i.e. 0, 1, 2, ..., [num_class - 1].\n",
      "  warnings.warn(label_encoder_deprecation_msg, UserWarning)\n",
      "/home/ec2-user/anaconda3/envs/tensorflow_p36/lib/python3.6/site-packages/sklearn/utils/validation.py:63: DataConversionWarning: A column-vector y was passed when a 1d array was expected. Please change the shape of y to (n_samples, ), for example using ravel().\n",
      "  return f(*args, **kwargs)\n"
     ]
    },
    {
     "name": "stdout",
     "output_type": "stream",
     "text": [
      "[18:10:43] WARNING: ../src/learner.cc:1115: Starting in XGBoost 1.3.0, the default evaluation metric used with the objective 'binary:logistic' was changed from 'error' to 'logloss'. Explicitly set eval_metric if you'd like to restore the old behavior.\n",
      "No Skill: ROC AUC=0.500\n",
      "XGBClassifier: ROC AUC=0.725\n"
     ]
    },
    {
     "data": {
      "image/png": "[encoded data removed]",
      "text/plain": [
       "<Figure size 432x288 with 1 Axes>"
      ]
     },
     "metadata": {
      "needs_background": "light"
     },
     "output_type": "display_data"
    },
    {
     "name": "stdout",
     "output_type": "stream",
     "text": [
      "225.66613507270813 s\n"
     ]
    }
   ],
   "source": [
    "time_start = time.time()\n",
    "model = xgb.XGBClassifier(max_depth= 3, n_estimators=100)\n",
    "model.fit(trainX, trainy)\n",
    "time_end = time.time()\n",
    "\n",
    "filename = 'xgb_model_prepay.sav'\n",
    "#filename = 'xgb_model_date_prepay.sav'\n",
    "\n",
    "pickle.dump(model, open(filename, 'wb'))\n",
    "model = pickle.load(open(filename, 'rb'))\n",
    "\n",
    "# predict probabilities\n",
    "lr_probs = model.predict_proba(testX)\n",
    "\n",
    "# keep probabilities for the positive outcome only\n",
    "lr_probs = lr_probs[:, 1]\n",
    "# calculate scores\n",
    "ns_auc = roc_auc_score(testy, ns_probs)\n",
    "lr_auc = roc_auc_score(testy, lr_probs)\n",
    "# summarize scores\n",
    "print('No Skill: ROC AUC=%.3f' % (ns_auc))\n",
    "print('XGBClassifier: ROC AUC=%.3f' % (lr_auc))\n",
    "# calculate roc curves\n",
    "ns_fpr, ns_tpr, _ = roc_curve(testy, ns_probs)\n",
    "lr_fpr, lr_tpr, _ = roc_curve(testy, lr_probs)\n",
    "# plot the roc curve for the model\n",
    "plt.plot(ns_fpr, ns_tpr, linestyle='--', label='No Skill')\n",
    "plt.plot(lr_fpr, lr_tpr, marker='.', label='XGBClassifier')\n",
    "# axis labels\n",
    "plt.xlabel('False Positive Rate')\n",
    "plt.ylabel('True Positive Rate')\n",
    "# show the legend\n",
    "plt.legend()\n",
    "# show the plot\n",
    "plt.show()\n",
    "print (time_end - time_start, \"s\")"
   ]
  },
  {
   "cell_type": "code",
   "execution_count": null,
   "id": "505d646b",
   "metadata": {},
   "outputs": [],
   "source": []
  }
 ],
 "metadata": {
  "kernelspec": {
   "display_name": "conda_tensorflow_p36",
   "language": "python",
   "name": "conda_tensorflow_p36"
  },
  "language_info": {
   "codemirror_mode": {
    "name": "ipython",
    "version": 3
   },
   "file_extension": ".py",
   "mimetype": "text/x-python",
   "name": "python",
   "nbconvert_exporter": "python",
   "pygments_lexer": "ipython3",
   "version": "3.6.13"
  }
 },
 "nbformat": 4,
 "nbformat_minor": 5
}
